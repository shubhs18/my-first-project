{
 "cells": [
  {
   "cell_type": "code",
   "execution_count": 1,
   "metadata": {},
   "outputs": [],
   "source": [
    "def start_game() :\n",
    "    \n",
    "    print('Welcome!')\n",
    "    "
   ]
  },
  {
   "cell_type": "code",
   "execution_count": 2,
   "metadata": {},
   "outputs": [],
   "source": [
    "def choose_player():\n",
    "    \n",
    "    marker = 'wrong'\n",
    "    while marker not in ['X','O'] :\n",
    "        \n",
    "        marker = input('Choose what you want to be. \\nX or O :').upper()\n",
    "        \n",
    "    if marker == 'X' :\n",
    "        return ('X','O')\n",
    "        \n",
    "    else :\n",
    "        return ('O','X')"
   ]
  },
  {
   "cell_type": "code",
   "execution_count": 3,
   "metadata": {},
   "outputs": [],
   "source": [
    "\n",
    "def display_board(board)  :\n",
    "    clear_output()\n",
    "    print('      |      |')\n",
    "    print('  ' + board[1] + '  |' + '  ' + board[2] + '  |' + '  ' +  board[3] )\n",
    "    print('      |      |')\n",
    "    print('---------------')\n",
    "    print('      |      |')\n",
    "    print('  ' + board[4] + '  |' + '  ' + board[5] + '  |' + '  ' +  board[6] )\n",
    "    print('      |      |')\n",
    "    print('---------------')\n",
    "    print('      |      |')\n",
    "    print('  ' + board[7] + '  |' + '  ' + board[8] + '  |' + '  ' +  board[9] )\n",
    "    print('      |      |')"
   ]
  },
  {
   "cell_type": "code",
   "execution_count": 4,
   "metadata": {},
   "outputs": [],
   "source": [
    "def markboard(board,position,marker) :\n",
    "    board[position] = marker"
   ]
  },
  {
   "cell_type": "code",
   "execution_count": 5,
   "metadata": {},
   "outputs": [],
   "source": [
    "def win_check(board,mark) :\n",
    "    return ((board[1] == mark and board[2] == mark and board[3] == mark) or\n",
    "(board[4] == mark and board[5] == mark and board[6] == mark) or\n",
    "(board[7] == mark and board[8] == mark and board[9] == mark) or\n",
    "(board[1] == mark and board[4] == mark and board[7] == mark) or\n",
    "(board[2] == mark and board[5] == mark and board[8] == mark) or\n",
    "(board[3] == mark and board[6] == mark and board[9] == mark) or\n",
    "(board[1] == mark and board[5] == mark and board[9] == mark) or\n",
    "(board[3] == mark and board[5] == mark and board[7] == mark)) \n"
   ]
  },
  {
   "cell_type": "code",
   "execution_count": 6,
   "metadata": {},
   "outputs": [],
   "source": [
    "import random\n",
    "\n",
    "def choose_first() :\n",
    "    if random.randint(0,1) == 0 :\n",
    "        return 'player1'\n",
    "    else :\n",
    "        return 'player2'"
   ]
  },
  {
   "cell_type": "code",
   "execution_count": 7,
   "metadata": {},
   "outputs": [],
   "source": [
    "def space_check(board,position) :\n",
    "    return board[position] == ' ' "
   ]
  },
  {
   "cell_type": "code",
   "execution_count": 8,
   "metadata": {},
   "outputs": [],
   "source": [
    "def full_board_check(board) :\n",
    "    for i in range(1,10) :\n",
    "        if space_check(board,i)  :\n",
    "            return False \n",
    "        \n",
    "    return True"
   ]
  },
  {
   "cell_type": "code",
   "execution_count": 9,
   "metadata": {},
   "outputs": [],
   "source": [
    "def player_choice(board) :\n",
    "    position = 0\n",
    "    while position not in list(range(1,10)) and not space_check(board,position) :\n",
    "        position = int(input('which position you want to choose betwen 1 and 9 : '))\n",
    "    \n",
    "    return position \n",
    "        \n",
    "        "
   ]
  },
  {
   "cell_type": "code",
   "execution_count": 10,
   "metadata": {},
   "outputs": [],
   "source": [
    "def replay() :\n",
    "    re = 'wrong'\n",
    "    while re not in ['Y','N','y','n'] :\n",
    "            re = input('Do you want to play again? \\nType Y or N ')\n",
    "    return re "
   ]
  },
  {
   "cell_type": "code",
   "execution_count": null,
   "metadata": {},
   "outputs": [
    {
     "name": "stdout",
     "output_type": "stream",
     "text": [
      "      |      |\n",
      "     |     |   \n",
      "      |      |\n",
      "---------------\n",
      "      |      |\n",
      "     |  O  |   \n",
      "      |      |\n",
      "---------------\n",
      "      |      |\n",
      "     |     |   \n",
      "      |      |\n"
     ]
    }
   ],
   "source": [
    "while True :\n",
    "    from IPython.display import clear_output\n",
    "    start_game()\n",
    "    \n",
    "    player1_marker = 'a'\n",
    "    player2_marker = 'b'\n",
    "    myboard = [' ']*10\n",
    "    player1_marker, player2_marker = choose_player()\n",
    "    turn = choose_first()\n",
    "    \n",
    "    print(turn + ' will go first')\n",
    "    \n",
    "    play_game = input('Are you ready to play game?\\nEnter Yes or No :')\n",
    "    \n",
    "    if play_game.lower()[0] == 'y' :\n",
    "          game_on = True\n",
    "    elif play_game.lower()[0] == 'n' :\n",
    "        game_on = False\n",
    "    \n",
    "        \n",
    "    while game_on :\n",
    "        if turn == 'player1' :\n",
    "            display_board(myboard)\n",
    "            pposition = player_choice(myboard)\n",
    "            markboard(myboard,pposition,player1_marker)\n",
    "            display_board(myboard)\n",
    "                \n",
    "        \n",
    "            if win_check(myboard,player1_marker) :\n",
    "                display_board(myboard)\n",
    "                print('You won the game!!!')\n",
    "                game_on = False\n",
    "                \n",
    "            else :\n",
    "                if full_board_check(myboard) :\n",
    "                    display_board(myboard)\n",
    "                    print('This game was a tie!')\n",
    "                    game_on = False\n",
    "                else :     \n",
    "                    turn = 'player2' \n",
    "                    \n",
    "                    \n",
    "        else : \n",
    "            display_board(myboard)\n",
    "            pposition = player_choice(myboard)\n",
    "            markboard(myboard,pposition,player2_marker)\n",
    "            display_board(myboard)\n",
    "\n",
    "            if win_check(myboard,player2_marker) :\n",
    "                display_board(myboard)\n",
    "                print('You won the game!!!')\n",
    "                game_on = False\n",
    "                \n",
    "            else :\n",
    "                if full_board_check(myboard) :\n",
    "                    display_board(myboard)\n",
    "                    print('This game was a tie!')\n",
    "                    break\n",
    "                else :     \n",
    "                    turn = 'player1'\n",
    "                    \n",
    "                    \n",
    "    if replay() == 'N' or replay() == 'n' :\n",
    "        break\n",
    "        "
   ]
  },
  {
   "cell_type": "code",
   "execution_count": null,
   "metadata": {},
   "outputs": [],
   "source": []
  },
  {
   "cell_type": "code",
   "execution_count": null,
   "metadata": {},
   "outputs": [],
   "source": []
  }
 ],
 "metadata": {
  "kernelspec": {
   "display_name": "Python 3",
   "language": "python",
   "name": "python3"
  },
  "language_info": {
   "codemirror_mode": {
    "name": "ipython",
    "version": 3
   },
   "file_extension": ".py",
   "mimetype": "text/x-python",
   "name": "python",
   "nbconvert_exporter": "python",
   "pygments_lexer": "ipython3",
   "version": "3.7.6"
  }
 },
 "nbformat": 4,
 "nbformat_minor": 4
}
